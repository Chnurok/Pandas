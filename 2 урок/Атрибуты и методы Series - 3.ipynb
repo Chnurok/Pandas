{
 "cells": [
  {
   "cell_type": "code",
   "execution_count": 2,
   "metadata": {},
   "outputs": [],
   "source": [
    "import pandas as pd"
   ]
  },
  {
   "cell_type": "code",
   "execution_count": 3,
   "metadata": {},
   "outputs": [
    {
     "data": {
      "text/plain": [
       "0    1\n",
       "1    2\n",
       "2    3\n",
       "3    4\n",
       "dtype: int64"
      ]
     },
     "execution_count": 3,
     "metadata": {},
     "output_type": "execute_result"
    }
   ],
   "source": [
    "ds = pd.Series([1, 2, 3, 4])\n",
    "ds"
   ]
  },
  {
   "cell_type": "code",
   "execution_count": 4,
   "metadata": {},
   "outputs": [
    {
     "data": {
      "text/plain": [
       "0    1\n",
       "1    3\n",
       "2    3\n",
       "3    5\n",
       "dtype: int64"
      ]
     },
     "execution_count": 4,
     "metadata": {},
     "output_type": "execute_result"
    }
   ],
   "source": [
    "def test(x):    \n",
    "    if not x % 2:\n",
    "        return x + 1\n",
    "    else:\n",
    "        return x\n",
    "    \n",
    "ds.apply(test)"
   ]
  },
  {
   "cell_type": "code",
   "execution_count": 5,
   "metadata": {},
   "outputs": [
    {
     "data": {
      "text/plain": [
       "0    1\n",
       "1    3\n",
       "2    3\n",
       "3    5\n",
       "dtype: int64"
      ]
     },
     "execution_count": 5,
     "metadata": {},
     "output_type": "execute_result"
    }
   ],
   "source": [
    "ds.apply(lambda x: x + 1 if not x % 2 else x)"
   ]
  },
  {
   "cell_type": "markdown",
   "metadata": {},
   "source": [
    "# Homework"
   ]
  },
  {
   "cell_type": "code",
   "execution_count": 6,
   "metadata": {},
   "outputs": [
    {
     "data": {
      "text/plain": [
       "Dnepr     1000000\n",
       "Kiev      3000000\n",
       "Paris     2300000\n",
       "Berlin    3800000\n",
       "dtype: int64"
      ]
     },
     "execution_count": 6,
     "metadata": {},
     "output_type": "execute_result"
    }
   ],
   "source": [
    "cities = pd.Series(\n",
    "    {'Dnepr': 1000000, 'Kiev': 3000000, 'Paris': 2300000, 'Berlin': 3800000},\n",
    ")\n",
    "cities"
   ]
  },
  {
   "cell_type": "code",
   "execution_count": 7,
   "metadata": {},
   "outputs": [
    {
     "data": {
      "text/plain": [
       "0     Dnepr\n",
       "1      Kiev\n",
       "2     Paris\n",
       "3    Berlin\n",
       "dtype: object"
      ]
     },
     "execution_count": 7,
     "metadata": {},
     "output_type": "execute_result"
    }
   ],
   "source": [
    "cities2 = pd.Series(cities.index)\n",
    "cities2"
   ]
  },
  {
   "cell_type": "code",
   "execution_count": 12,
   "metadata": {},
   "outputs": [
    {
     "data": {
      "text/plain": [
       "0     Dnepr!!!\n",
       "1      Kiev!!!\n",
       "2        Paris\n",
       "3    Berlin!!!\n",
       "dtype: object"
      ]
     },
     "execution_count": 12,
     "metadata": {},
     "output_type": "execute_result"
    }
   ],
   "source": [
    "# Примените функцию lambda к серии cities2, чтобы получить вариант вывода ниже (если в названии города есть литера 'e'):\n",
    "'''\n",
    "0     Dnepr!!!\n",
    "1        Kiev\n",
    "2        Paris\n",
    "3     Berlin!!!\n",
    "dtype: object\n",
    "'''\n",
    "\n",
    "cities2.apply(lambda x: x + '!!!' if 'e' in x else x)"
   ]
  },
  {
   "cell_type": "code",
   "execution_count": 13,
   "metadata": {},
   "outputs": [
    {
     "data": {
      "text/plain": [
       "0      D-n-e-p-r\n",
       "1        K-i-e-v\n",
       "2          Paris\n",
       "3    B-e-r-l-i-n\n",
       "dtype: object"
      ]
     },
     "execution_count": 13,
     "metadata": {},
     "output_type": "execute_result"
    }
   ],
   "source": [
    "# примените функцию к серии cities2, чтобы получить вариант вывода ниже\n",
    "'''\n",
    "0      D-n-e-p-r\n",
    "1          Paris\n",
    "2    B-e-r-l-i-n\n",
    "3         London\n",
    "'''\n",
    "\n",
    "def test2(x):\n",
    "    if 'e' in x:\n",
    "        return '-'.join(x)\n",
    "    else:\n",
    "        return x\n",
    "    \n",
    "cities2.apply(test2)"
   ]
  },
  {
   "cell_type": "code",
   "execution_count": 10,
   "metadata": {},
   "outputs": [
    {
     "data": {
      "text/plain": [
       "0     Dnepr\n",
       "1      Kiev\n",
       "2     Paris\n",
       "3    Berlin\n",
       "dtype: object"
      ]
     },
     "execution_count": 10,
     "metadata": {},
     "output_type": "execute_result"
    }
   ],
   "source": [
    "cities2"
   ]
  },
  {
   "cell_type": "code",
   "execution_count": 14,
   "metadata": {},
   "outputs": [
    {
     "data": {
      "text/plain": [
       "0     Dnepr\n",
       "1      Kiev\n",
       "2     Paris\n",
       "3    Berlin\n",
       "dtype: object"
      ]
     },
     "execution_count": 14,
     "metadata": {},
     "output_type": "execute_result"
    }
   ],
   "source": [
    "cities2"
   ]
  },
  {
   "cell_type": "code",
   "execution_count": 15,
   "metadata": {},
   "outputs": [
    {
     "data": {
      "text/plain": [
       "0     Dnepr\n",
       "1      Kiev\n",
       "3    Berlin\n",
       "dtype: object"
      ]
     },
     "execution_count": 15,
     "metadata": {},
     "output_type": "execute_result"
    }
   ],
   "source": [
    "cities2[ cities2.str.contains('e') ]"
   ]
  },
  {
   "cell_type": "code",
   "execution_count": null,
   "metadata": {},
   "outputs": [],
   "source": []
  }
 ],
 "metadata": {
  "kernelspec": {
   "display_name": "Python 3 (ipykernel)",
   "language": "python",
   "name": "python3"
  },
  "language_info": {
   "codemirror_mode": {
    "name": "ipython",
    "version": 3
   },
   "file_extension": ".py",
   "mimetype": "text/x-python",
   "name": "python",
   "nbconvert_exporter": "python",
   "pygments_lexer": "ipython3",
   "version": "3.9.12"
  }
 },
 "nbformat": 4,
 "nbformat_minor": 4
}
