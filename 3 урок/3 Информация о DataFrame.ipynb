{
 "cells": [
  {
   "cell_type": "code",
   "execution_count": 1,
   "metadata": {},
   "outputs": [],
   "source": [
    "import pandas as pd"
   ]
  },
  {
   "cell_type": "code",
   "execution_count": 2,
   "metadata": {},
   "outputs": [
    {
     "data": {
      "text/html": [
       "<div>\n",
       "<style scoped>\n",
       "    .dataframe tbody tr th:only-of-type {\n",
       "        vertical-align: middle;\n",
       "    }\n",
       "\n",
       "    .dataframe tbody tr th {\n",
       "        vertical-align: top;\n",
       "    }\n",
       "\n",
       "    .dataframe thead th {\n",
       "        text-align: right;\n",
       "    }\n",
       "</style>\n",
       "<table border=\"1\" class=\"dataframe\">\n",
       "  <thead>\n",
       "    <tr style=\"text-align: right;\">\n",
       "      <th></th>\n",
       "      <th>ID</th>\n",
       "      <th>Name</th>\n",
       "      <th>CountryCode</th>\n",
       "      <th>District</th>\n",
       "      <th>Population</th>\n",
       "    </tr>\n",
       "  </thead>\n",
       "  <tbody>\n",
       "    <tr>\n",
       "      <th>0</th>\n",
       "      <td>1</td>\n",
       "      <td>Kabul</td>\n",
       "      <td>AFG</td>\n",
       "      <td>Kabol</td>\n",
       "      <td>1780000</td>\n",
       "    </tr>\n",
       "    <tr>\n",
       "      <th>1</th>\n",
       "      <td>2</td>\n",
       "      <td>Qandahar</td>\n",
       "      <td>AFG</td>\n",
       "      <td>Qandahar</td>\n",
       "      <td>237500</td>\n",
       "    </tr>\n",
       "    <tr>\n",
       "      <th>2</th>\n",
       "      <td>3</td>\n",
       "      <td>Herat</td>\n",
       "      <td>AFG</td>\n",
       "      <td>Herat</td>\n",
       "      <td>186800</td>\n",
       "    </tr>\n",
       "    <tr>\n",
       "      <th>3</th>\n",
       "      <td>4</td>\n",
       "      <td>Mazar-e-Sharif</td>\n",
       "      <td>AFG</td>\n",
       "      <td>Balkh</td>\n",
       "      <td>127800</td>\n",
       "    </tr>\n",
       "    <tr>\n",
       "      <th>4</th>\n",
       "      <td>5</td>\n",
       "      <td>Amsterdam</td>\n",
       "      <td>NLD</td>\n",
       "      <td>Noord-Holland</td>\n",
       "      <td>731200</td>\n",
       "    </tr>\n",
       "    <tr>\n",
       "      <th>...</th>\n",
       "      <td>...</td>\n",
       "      <td>...</td>\n",
       "      <td>...</td>\n",
       "      <td>...</td>\n",
       "      <td>...</td>\n",
       "    </tr>\n",
       "    <tr>\n",
       "      <th>4074</th>\n",
       "      <td>4075</td>\n",
       "      <td>Khan Yunis</td>\n",
       "      <td>PSE</td>\n",
       "      <td>Khan Yunis</td>\n",
       "      <td>123175</td>\n",
       "    </tr>\n",
       "    <tr>\n",
       "      <th>4075</th>\n",
       "      <td>4076</td>\n",
       "      <td>Hebron</td>\n",
       "      <td>PSE</td>\n",
       "      <td>Hebron</td>\n",
       "      <td>119401</td>\n",
       "    </tr>\n",
       "    <tr>\n",
       "      <th>4076</th>\n",
       "      <td>4077</td>\n",
       "      <td>Jabaliya</td>\n",
       "      <td>PSE</td>\n",
       "      <td>North Gaza</td>\n",
       "      <td>113901</td>\n",
       "    </tr>\n",
       "    <tr>\n",
       "      <th>4077</th>\n",
       "      <td>4078</td>\n",
       "      <td>Nablus</td>\n",
       "      <td>PSE</td>\n",
       "      <td>Nablus</td>\n",
       "      <td>100231</td>\n",
       "    </tr>\n",
       "    <tr>\n",
       "      <th>4078</th>\n",
       "      <td>4079</td>\n",
       "      <td>Rafah</td>\n",
       "      <td>PSE</td>\n",
       "      <td>Rafah</td>\n",
       "      <td>92020</td>\n",
       "    </tr>\n",
       "  </tbody>\n",
       "</table>\n",
       "<p>4079 rows × 5 columns</p>\n",
       "</div>"
      ],
      "text/plain": [
       "        ID            Name CountryCode       District  Population\n",
       "0        1           Kabul         AFG          Kabol     1780000\n",
       "1        2        Qandahar         AFG       Qandahar      237500\n",
       "2        3           Herat         AFG          Herat      186800\n",
       "3        4  Mazar-e-Sharif         AFG          Balkh      127800\n",
       "4        5       Amsterdam         NLD  Noord-Holland      731200\n",
       "...    ...             ...         ...            ...         ...\n",
       "4074  4075      Khan Yunis         PSE     Khan Yunis      123175\n",
       "4075  4076          Hebron         PSE         Hebron      119401\n",
       "4076  4077        Jabaliya         PSE     North Gaza      113901\n",
       "4077  4078          Nablus         PSE         Nablus      100231\n",
       "4078  4079           Rafah         PSE          Rafah       92020\n",
       "\n",
       "[4079 rows x 5 columns]"
      ]
     },
     "execution_count": 2,
     "metadata": {},
     "output_type": "execute_result"
    }
   ],
   "source": [
    "df = pd.read_csv('city.csv', sep=';')\n",
    "df"
   ]
  },
  {
   "cell_type": "code",
   "execution_count": 3,
   "metadata": {},
   "outputs": [
    {
     "data": {
      "text/html": [
       "<div>\n",
       "<style scoped>\n",
       "    .dataframe tbody tr th:only-of-type {\n",
       "        vertical-align: middle;\n",
       "    }\n",
       "\n",
       "    .dataframe tbody tr th {\n",
       "        vertical-align: top;\n",
       "    }\n",
       "\n",
       "    .dataframe thead th {\n",
       "        text-align: right;\n",
       "    }\n",
       "</style>\n",
       "<table border=\"1\" class=\"dataframe\">\n",
       "  <thead>\n",
       "    <tr style=\"text-align: right;\">\n",
       "      <th></th>\n",
       "      <th>ID</th>\n",
       "      <th>Name</th>\n",
       "      <th>CountryCode</th>\n",
       "      <th>District</th>\n",
       "      <th>Population</th>\n",
       "    </tr>\n",
       "  </thead>\n",
       "  <tbody>\n",
       "    <tr>\n",
       "      <th>0</th>\n",
       "      <td>1</td>\n",
       "      <td>Kabul</td>\n",
       "      <td>AFG</td>\n",
       "      <td>Kabol</td>\n",
       "      <td>1780000</td>\n",
       "    </tr>\n",
       "    <tr>\n",
       "      <th>1</th>\n",
       "      <td>2</td>\n",
       "      <td>Qandahar</td>\n",
       "      <td>AFG</td>\n",
       "      <td>Qandahar</td>\n",
       "      <td>237500</td>\n",
       "    </tr>\n",
       "    <tr>\n",
       "      <th>2</th>\n",
       "      <td>3</td>\n",
       "      <td>Herat</td>\n",
       "      <td>AFG</td>\n",
       "      <td>Herat</td>\n",
       "      <td>186800</td>\n",
       "    </tr>\n",
       "    <tr>\n",
       "      <th>3</th>\n",
       "      <td>4</td>\n",
       "      <td>Mazar-e-Sharif</td>\n",
       "      <td>AFG</td>\n",
       "      <td>Balkh</td>\n",
       "      <td>127800</td>\n",
       "    </tr>\n",
       "    <tr>\n",
       "      <th>4</th>\n",
       "      <td>5</td>\n",
       "      <td>Amsterdam</td>\n",
       "      <td>NLD</td>\n",
       "      <td>Noord-Holland</td>\n",
       "      <td>731200</td>\n",
       "    </tr>\n",
       "    <tr>\n",
       "      <th>5</th>\n",
       "      <td>6</td>\n",
       "      <td>Rotterdam</td>\n",
       "      <td>NLD</td>\n",
       "      <td>Zuid-Holland</td>\n",
       "      <td>593321</td>\n",
       "    </tr>\n",
       "    <tr>\n",
       "      <th>6</th>\n",
       "      <td>7</td>\n",
       "      <td>Haag</td>\n",
       "      <td>NLD</td>\n",
       "      <td>Zuid-Holland</td>\n",
       "      <td>440900</td>\n",
       "    </tr>\n",
       "    <tr>\n",
       "      <th>7</th>\n",
       "      <td>8</td>\n",
       "      <td>Utrecht</td>\n",
       "      <td>NLD</td>\n",
       "      <td>Utrecht</td>\n",
       "      <td>234323</td>\n",
       "    </tr>\n",
       "    <tr>\n",
       "      <th>8</th>\n",
       "      <td>9</td>\n",
       "      <td>Eindhoven</td>\n",
       "      <td>NLD</td>\n",
       "      <td>Noord-Brabant</td>\n",
       "      <td>201843</td>\n",
       "    </tr>\n",
       "    <tr>\n",
       "      <th>9</th>\n",
       "      <td>10</td>\n",
       "      <td>Tilburg</td>\n",
       "      <td>NLD</td>\n",
       "      <td>Noord-Brabant</td>\n",
       "      <td>193238</td>\n",
       "    </tr>\n",
       "  </tbody>\n",
       "</table>\n",
       "</div>"
      ],
      "text/plain": [
       "   ID            Name CountryCode       District  Population\n",
       "0   1           Kabul         AFG          Kabol     1780000\n",
       "1   2        Qandahar         AFG       Qandahar      237500\n",
       "2   3           Herat         AFG          Herat      186800\n",
       "3   4  Mazar-e-Sharif         AFG          Balkh      127800\n",
       "4   5       Amsterdam         NLD  Noord-Holland      731200\n",
       "5   6       Rotterdam         NLD   Zuid-Holland      593321\n",
       "6   7            Haag         NLD   Zuid-Holland      440900\n",
       "7   8         Utrecht         NLD        Utrecht      234323\n",
       "8   9       Eindhoven         NLD  Noord-Brabant      201843\n",
       "9  10         Tilburg         NLD  Noord-Brabant      193238"
      ]
     },
     "execution_count": 3,
     "metadata": {},
     "output_type": "execute_result"
    }
   ],
   "source": [
    "df.head(10)"
   ]
  },
  {
   "cell_type": "code",
   "execution_count": 4,
   "metadata": {},
   "outputs": [
    {
     "data": {
      "text/html": [
       "<div>\n",
       "<style scoped>\n",
       "    .dataframe tbody tr th:only-of-type {\n",
       "        vertical-align: middle;\n",
       "    }\n",
       "\n",
       "    .dataframe tbody tr th {\n",
       "        vertical-align: top;\n",
       "    }\n",
       "\n",
       "    .dataframe thead th {\n",
       "        text-align: right;\n",
       "    }\n",
       "</style>\n",
       "<table border=\"1\" class=\"dataframe\">\n",
       "  <thead>\n",
       "    <tr style=\"text-align: right;\">\n",
       "      <th></th>\n",
       "      <th>ID</th>\n",
       "      <th>Name</th>\n",
       "      <th>CountryCode</th>\n",
       "      <th>District</th>\n",
       "      <th>Population</th>\n",
       "    </tr>\n",
       "  </thead>\n",
       "  <tbody>\n",
       "    <tr>\n",
       "      <th>4069</th>\n",
       "      <td>4070</td>\n",
       "      <td>Chitungwiza</td>\n",
       "      <td>ZWE</td>\n",
       "      <td>Harare</td>\n",
       "      <td>274912</td>\n",
       "    </tr>\n",
       "    <tr>\n",
       "      <th>4070</th>\n",
       "      <td>4071</td>\n",
       "      <td>Mount Darwin</td>\n",
       "      <td>ZWE</td>\n",
       "      <td>Harare</td>\n",
       "      <td>164362</td>\n",
       "    </tr>\n",
       "    <tr>\n",
       "      <th>4071</th>\n",
       "      <td>4072</td>\n",
       "      <td>Mutare</td>\n",
       "      <td>ZWE</td>\n",
       "      <td>Manicaland</td>\n",
       "      <td>131367</td>\n",
       "    </tr>\n",
       "    <tr>\n",
       "      <th>4072</th>\n",
       "      <td>4073</td>\n",
       "      <td>Gweru</td>\n",
       "      <td>ZWE</td>\n",
       "      <td>Midlands</td>\n",
       "      <td>128037</td>\n",
       "    </tr>\n",
       "    <tr>\n",
       "      <th>4073</th>\n",
       "      <td>4074</td>\n",
       "      <td>Gaza</td>\n",
       "      <td>PSE</td>\n",
       "      <td>Gaza</td>\n",
       "      <td>353632</td>\n",
       "    </tr>\n",
       "    <tr>\n",
       "      <th>4074</th>\n",
       "      <td>4075</td>\n",
       "      <td>Khan Yunis</td>\n",
       "      <td>PSE</td>\n",
       "      <td>Khan Yunis</td>\n",
       "      <td>123175</td>\n",
       "    </tr>\n",
       "    <tr>\n",
       "      <th>4075</th>\n",
       "      <td>4076</td>\n",
       "      <td>Hebron</td>\n",
       "      <td>PSE</td>\n",
       "      <td>Hebron</td>\n",
       "      <td>119401</td>\n",
       "    </tr>\n",
       "    <tr>\n",
       "      <th>4076</th>\n",
       "      <td>4077</td>\n",
       "      <td>Jabaliya</td>\n",
       "      <td>PSE</td>\n",
       "      <td>North Gaza</td>\n",
       "      <td>113901</td>\n",
       "    </tr>\n",
       "    <tr>\n",
       "      <th>4077</th>\n",
       "      <td>4078</td>\n",
       "      <td>Nablus</td>\n",
       "      <td>PSE</td>\n",
       "      <td>Nablus</td>\n",
       "      <td>100231</td>\n",
       "    </tr>\n",
       "    <tr>\n",
       "      <th>4078</th>\n",
       "      <td>4079</td>\n",
       "      <td>Rafah</td>\n",
       "      <td>PSE</td>\n",
       "      <td>Rafah</td>\n",
       "      <td>92020</td>\n",
       "    </tr>\n",
       "  </tbody>\n",
       "</table>\n",
       "</div>"
      ],
      "text/plain": [
       "        ID          Name CountryCode    District  Population\n",
       "4069  4070   Chitungwiza         ZWE      Harare      274912\n",
       "4070  4071  Mount Darwin         ZWE      Harare      164362\n",
       "4071  4072        Mutare         ZWE  Manicaland      131367\n",
       "4072  4073         Gweru         ZWE    Midlands      128037\n",
       "4073  4074          Gaza         PSE        Gaza      353632\n",
       "4074  4075    Khan Yunis         PSE  Khan Yunis      123175\n",
       "4075  4076        Hebron         PSE      Hebron      119401\n",
       "4076  4077      Jabaliya         PSE  North Gaza      113901\n",
       "4077  4078        Nablus         PSE      Nablus      100231\n",
       "4078  4079         Rafah         PSE       Rafah       92020"
      ]
     },
     "execution_count": 4,
     "metadata": {},
     "output_type": "execute_result"
    }
   ],
   "source": [
    "df.tail(10)"
   ]
  },
  {
   "cell_type": "code",
   "execution_count": 5,
   "metadata": {},
   "outputs": [
    {
     "data": {
      "text/plain": [
       "4079"
      ]
     },
     "execution_count": 5,
     "metadata": {},
     "output_type": "execute_result"
    }
   ],
   "source": [
    "len(df)"
   ]
  },
  {
   "cell_type": "code",
   "execution_count": 6,
   "metadata": {},
   "outputs": [
    {
     "data": {
      "text/plain": [
       "(4079, 5)"
      ]
     },
     "execution_count": 6,
     "metadata": {},
     "output_type": "execute_result"
    }
   ],
   "source": [
    "df.shape #кортеж колво строк и колонок"
   ]
  },
  {
   "cell_type": "code",
   "execution_count": 9,
   "metadata": {},
   "outputs": [
    {
     "name": "stdout",
     "output_type": "stream",
     "text": [
      "<class 'pandas.core.frame.DataFrame'>\n",
      "RangeIndex: 4079 entries, 0 to 4078\n",
      "Data columns (total 5 columns):\n",
      " #   Column       Non-Null Count  Dtype \n",
      "---  ------       --------------  ----- \n",
      " 0   ID           4079 non-null   int64 \n",
      " 1   Name         4079 non-null   object\n",
      " 2   CountryCode  4079 non-null   object\n",
      " 3   District     4075 non-null   object\n",
      " 4   Population   4079 non-null   int64 \n",
      "dtypes: int64(2), object(3)\n",
      "memory usage: 159.5+ KB\n"
     ]
    }
   ],
   "source": [
    "df.info()"
   ]
  },
  {
   "cell_type": "code",
   "execution_count": 12,
   "metadata": {},
   "outputs": [
    {
     "data": {
      "text/html": [
       "<div>\n",
       "<style scoped>\n",
       "    .dataframe tbody tr th:only-of-type {\n",
       "        vertical-align: middle;\n",
       "    }\n",
       "\n",
       "    .dataframe tbody tr th {\n",
       "        vertical-align: top;\n",
       "    }\n",
       "\n",
       "    .dataframe thead th {\n",
       "        text-align: right;\n",
       "    }\n",
       "</style>\n",
       "<table border=\"1\" class=\"dataframe\">\n",
       "  <thead>\n",
       "    <tr style=\"text-align: right;\">\n",
       "      <th></th>\n",
       "      <th>ID</th>\n",
       "      <th>Name</th>\n",
       "      <th>CountryCode</th>\n",
       "      <th>District</th>\n",
       "      <th>Population</th>\n",
       "    </tr>\n",
       "  </thead>\n",
       "  <tbody>\n",
       "    <tr>\n",
       "      <th>3284</th>\n",
       "      <td>3285</td>\n",
       "      <td>Taiping</td>\n",
       "      <td>TWN</td>\n",
       "      <td>NaN</td>\n",
       "      <td>165524</td>\n",
       "    </tr>\n",
       "    <tr>\n",
       "      <th>3292</th>\n",
       "      <td>3293</td>\n",
       "      <td>Taliao</td>\n",
       "      <td>TWN</td>\n",
       "      <td>NaN</td>\n",
       "      <td>115897</td>\n",
       "    </tr>\n",
       "    <tr>\n",
       "      <th>3293</th>\n",
       "      <td>3294</td>\n",
       "      <td>Kueishan</td>\n",
       "      <td>TWN</td>\n",
       "      <td>NaN</td>\n",
       "      <td>112195</td>\n",
       "    </tr>\n",
       "    <tr>\n",
       "      <th>3562</th>\n",
       "      <td>3563</td>\n",
       "      <td>Ciudad Losada</td>\n",
       "      <td>VEN</td>\n",
       "      <td>NaN</td>\n",
       "      <td>134501</td>\n",
       "    </tr>\n",
       "  </tbody>\n",
       "</table>\n",
       "</div>"
      ],
      "text/plain": [
       "        ID           Name CountryCode District  Population\n",
       "3284  3285        Taiping         TWN      NaN      165524\n",
       "3292  3293         Taliao         TWN      NaN      115897\n",
       "3293  3294       Kueishan         TWN      NaN      112195\n",
       "3562  3563  Ciudad Losada         VEN      NaN      134501"
      ]
     },
     "execution_count": 12,
     "metadata": {},
     "output_type": "execute_result"
    }
   ],
   "source": [
    "df[ df['District'].isna() ] #нулевые значения"
   ]
  },
  {
   "cell_type": "code",
   "execution_count": 13,
   "metadata": {},
   "outputs": [
    {
     "data": {
      "text/html": [
       "<div>\n",
       "<style scoped>\n",
       "    .dataframe tbody tr th:only-of-type {\n",
       "        vertical-align: middle;\n",
       "    }\n",
       "\n",
       "    .dataframe tbody tr th {\n",
       "        vertical-align: top;\n",
       "    }\n",
       "\n",
       "    .dataframe thead th {\n",
       "        text-align: right;\n",
       "    }\n",
       "</style>\n",
       "<table border=\"1\" class=\"dataframe\">\n",
       "  <thead>\n",
       "    <tr style=\"text-align: right;\">\n",
       "      <th></th>\n",
       "      <th>ID</th>\n",
       "      <th>Population</th>\n",
       "    </tr>\n",
       "  </thead>\n",
       "  <tbody>\n",
       "    <tr>\n",
       "      <th>count</th>\n",
       "      <td>4079.000000</td>\n",
       "      <td>4.079000e+03</td>\n",
       "    </tr>\n",
       "    <tr>\n",
       "      <th>mean</th>\n",
       "      <td>2040.000000</td>\n",
       "      <td>3.504682e+05</td>\n",
       "    </tr>\n",
       "    <tr>\n",
       "      <th>std</th>\n",
       "      <td>1177.650203</td>\n",
       "      <td>7.237757e+05</td>\n",
       "    </tr>\n",
       "    <tr>\n",
       "      <th>min</th>\n",
       "      <td>1.000000</td>\n",
       "      <td>4.200000e+01</td>\n",
       "    </tr>\n",
       "    <tr>\n",
       "      <th>25%</th>\n",
       "      <td>1020.500000</td>\n",
       "      <td>1.147890e+05</td>\n",
       "    </tr>\n",
       "    <tr>\n",
       "      <th>50%</th>\n",
       "      <td>2040.000000</td>\n",
       "      <td>1.670510e+05</td>\n",
       "    </tr>\n",
       "    <tr>\n",
       "      <th>75%</th>\n",
       "      <td>3059.500000</td>\n",
       "      <td>3.106385e+05</td>\n",
       "    </tr>\n",
       "    <tr>\n",
       "      <th>max</th>\n",
       "      <td>4079.000000</td>\n",
       "      <td>1.050000e+07</td>\n",
       "    </tr>\n",
       "  </tbody>\n",
       "</table>\n",
       "</div>"
      ],
      "text/plain": [
       "                ID    Population\n",
       "count  4079.000000  4.079000e+03\n",
       "mean   2040.000000  3.504682e+05\n",
       "std    1177.650203  7.237757e+05\n",
       "min       1.000000  4.200000e+01\n",
       "25%    1020.500000  1.147890e+05\n",
       "50%    2040.000000  1.670510e+05\n",
       "75%    3059.500000  3.106385e+05\n",
       "max    4079.000000  1.050000e+07"
      ]
     },
     "execution_count": 13,
     "metadata": {},
     "output_type": "execute_result"
    }
   ],
   "source": [
    "df.describe()"
   ]
  },
  {
   "cell_type": "code",
   "execution_count": 17,
   "metadata": {},
   "outputs": [
    {
     "data": {
      "text/plain": [
       "array(['AFG', 'NLD', 'ANT', 'ALB', 'DZA', 'ASM', 'AND', 'AGO', 'AIA',\n",
       "       'ATG', 'ARE', 'ARG', 'ARM', 'ABW', 'AUS', 'AZE', 'BHS', 'BHR',\n",
       "       'BGD', 'BRB', 'BEL', 'BLZ', 'BEN', 'BMU', 'BTN', 'BOL', 'BIH',\n",
       "       'BWA', 'BRA', 'GBR', 'VGB', 'BRN', 'BGR', 'BFA', 'BDI', 'CYM',\n",
       "       'CHL', 'COK', 'CRI', 'DJI', 'DMA', 'DOM', 'ECU', 'EGY', 'SLV',\n",
       "       'ERI', 'ESP', 'ZAF', 'ETH', 'FLK', 'FJI', 'PHL', 'FRO', 'GAB',\n",
       "       'GMB', 'GEO', 'GHA', 'GIB', 'GRD', 'GRL', 'GLP', 'GUM', 'GTM',\n",
       "       'GIN', 'GNB', 'GUY', 'HTI', 'HND', 'HKG', 'SJM', 'IDN', 'IND',\n",
       "       'IRQ', 'IRN', 'IRL', 'ISL', 'ISR', 'ITA', 'TMP', 'AUT', 'JAM',\n",
       "       'JPN', 'YEM', 'JOR', 'CXR', 'YUG', 'KHM', 'CMR', 'CAN', 'CPV',\n",
       "       'KAZ', 'KEN', 'CAF', 'CHN', 'KGZ', 'KIR', 'COL', 'COM', 'COG',\n",
       "       'COD', 'CCK', 'PRK', 'KOR', 'GRC', 'HRV', 'CUB', 'KWT', 'CYP',\n",
       "       'LAO', 'LVA', 'LSO', 'LBN', 'LBR', 'LBY', 'LIE', 'LTU', 'LUX',\n",
       "       'ESH', 'MAC', 'MDG', 'MKD', 'MWI', 'MDV', 'MYS', 'MLI', 'MLT',\n",
       "       'MAR', 'MHL', 'MTQ', 'MRT', 'MUS', 'MYT', 'MEX', 'FSM', 'MDA',\n",
       "       'MCO', 'MNG', 'MSR', 'MOZ', 'MMR', 'NAM', 'NRU', 'NPL', 'NIC',\n",
       "       'NER', 'NGA', 'NIU', 'NFK', 'NOR', 'CIV', 'OMN', 'PAK', 'PLW',\n",
       "       'PAN', 'PNG', 'PRY', 'PER', 'PCN', 'MNP', 'PRT', 'PRI', 'POL',\n",
       "       'GNQ', 'QAT', 'FRA', 'GUF', 'PYF', 'REU', 'ROM', 'RWA', 'SWE',\n",
       "       'SHN', 'KNA', 'LCA', 'VCT', 'SPM', 'DEU', 'SLB', 'ZMB', 'WSM',\n",
       "       'SMR', 'STP', 'SAU', 'SEN', 'SYC', 'SLE', 'SGP', 'SVK', 'SVN',\n",
       "       'SOM', 'LKA', 'SDN', 'FIN', 'SUR', 'SWZ', 'CHE', 'SYR', 'TJK',\n",
       "       'TWN', 'TZA', 'DNK', 'THA', 'TGO', 'TKL', 'TON', 'TTO', 'TCD',\n",
       "       'CZE', 'TUN', 'TUR', 'TKM', 'TCA', 'TUV', 'UGA', 'UKR', 'HUN',\n",
       "       'URY', 'NCL', 'NZL', 'UZB', 'BLR', 'WLF', 'VUT', 'VAT', 'VEN',\n",
       "       'RUS', 'VNM', 'EST', 'USA', 'VIR', 'ZWE', 'PSE'], dtype=object)"
      ]
     },
     "execution_count": 17,
     "metadata": {},
     "output_type": "execute_result"
    }
   ],
   "source": [
    "df.CountryCode.unique()"
   ]
  },
  {
   "cell_type": "code",
   "execution_count": 19,
   "metadata": {},
   "outputs": [
    {
     "data": {
      "text/plain": [
       "232"
      ]
     },
     "execution_count": 19,
     "metadata": {},
     "output_type": "execute_result"
    }
   ],
   "source": [
    "# len(df.CountryCode.unique())\n",
    "df.CountryCode.unique().size"
   ]
  },
  {
   "cell_type": "code",
   "execution_count": 20,
   "metadata": {},
   "outputs": [
    {
     "data": {
      "text/plain": [
       "array([[1, 'Kabul', 'AFG', 'Kabol', 1780000],\n",
       "       [2, 'Qandahar', 'AFG', 'Qandahar', 237500],\n",
       "       [3, 'Herat', 'AFG', 'Herat', 186800],\n",
       "       ...,\n",
       "       [4077, 'Jabaliya', 'PSE', 'North Gaza', 113901],\n",
       "       [4078, 'Nablus', 'PSE', 'Nablus', 100231],\n",
       "       [4079, 'Rafah', 'PSE', 'Rafah', 92020]], dtype=object)"
      ]
     },
     "execution_count": 20,
     "metadata": {},
     "output_type": "execute_result"
    }
   ],
   "source": [
    "df.values"
   ]
  },
  {
   "cell_type": "code",
   "execution_count": 21,
   "metadata": {},
   "outputs": [
    {
     "data": {
      "text/plain": [
       "RangeIndex(start=0, stop=4079, step=1)"
      ]
     },
     "execution_count": 21,
     "metadata": {},
     "output_type": "execute_result"
    }
   ],
   "source": [
    "df.index"
   ]
  },
  {
   "cell_type": "code",
   "execution_count": 22,
   "metadata": {},
   "outputs": [
    {
     "data": {
      "text/plain": [
       "Index(['ID', 'Name', 'CountryCode', 'District', 'Population'], dtype='object')"
      ]
     },
     "execution_count": 22,
     "metadata": {},
     "output_type": "execute_result"
    }
   ],
   "source": [
    "df.columns"
   ]
  },
  {
   "cell_type": "code",
   "execution_count": 23,
   "metadata": {},
   "outputs": [
    {
     "data": {
      "text/plain": [
       "CHN    363\n",
       "IND    341\n",
       "USA    274\n",
       "BRA    250\n",
       "JPN    248\n",
       "      ... \n",
       "MHL      1\n",
       "SYC      1\n",
       "LUX      1\n",
       "LBR      1\n",
       "LSO      1\n",
       "Name: CountryCode, Length: 232, dtype: int64"
      ]
     },
     "execution_count": 23,
     "metadata": {},
     "output_type": "execute_result"
    }
   ],
   "source": [
    "# подсчет с группировкой и сортировкой\n",
    "df.CountryCode.value_counts()"
   ]
  },
  {
   "cell_type": "code",
   "execution_count": 24,
   "metadata": {},
   "outputs": [
    {
     "data": {
      "text/plain": [
       "CHN    0.088992\n",
       "IND    0.083599\n",
       "USA    0.067173\n",
       "BRA    0.061290\n",
       "JPN    0.060799\n",
       "         ...   \n",
       "MHL    0.000245\n",
       "SYC    0.000245\n",
       "LUX    0.000245\n",
       "LBR    0.000245\n",
       "LSO    0.000245\n",
       "Name: CountryCode, Length: 232, dtype: float64"
      ]
     },
     "execution_count": 24,
     "metadata": {},
     "output_type": "execute_result"
    }
   ],
   "source": [
    "df.CountryCode.value_counts(normalize=True)"
   ]
  },
  {
   "cell_type": "code",
   "execution_count": null,
   "metadata": {},
   "outputs": [],
   "source": []
  }
 ],
 "metadata": {
  "kernelspec": {
   "display_name": "Python 3 (ipykernel)",
   "language": "python",
   "name": "python3"
  },
  "language_info": {
   "codemirror_mode": {
    "name": "ipython",
    "version": 3
   },
   "file_extension": ".py",
   "mimetype": "text/x-python",
   "name": "python",
   "nbconvert_exporter": "python",
   "pygments_lexer": "ipython3",
   "version": "3.9.12"
  }
 },
 "nbformat": 4,
 "nbformat_minor": 4
}
