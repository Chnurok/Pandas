{
 "cells": [
  {
   "cell_type": "markdown",
   "metadata": {},
   "source": [
    "Список горячих клавиш доступен в меню `Help - Keyboard Shortcuts` или через горячую клавишу `H`."
   ]
  },
  {
   "cell_type": "markdown",
   "metadata": {},
   "source": [
    "Jupyter предлагает 2 режима работы с ячейками:\n",
    "* Командный режим.\n",
    "* Режим редактирования"
   ]
  },
  {
   "cell_type": "markdown",
   "metadata": {},
   "source": [
    "Для перехода из командного режима в режим редактирования - достаточно нажать `Enter`. Для возврата - `Esc`.\n",
    "\n",
    "В режиме редактирования можно набирать код или текст Markdown. Для смены режима используются клавиши `M (Markdown)` и `Y (Code)`."
   ]
  },
  {
   "cell_type": "markdown",
   "metadata": {},
   "source": [
    "Некоторые горячие клавиши:\n",
    "* `H` - список горячих клавиш\n",
    "* `🠕🠗` - навигация по ячейкам\n",
    "* `A` - добавить ячейку выше\n",
    "* `B` - добавить ячейку ниже\n",
    "* `D + D` - удалить ячейку\n",
    "* `Z` - отменить удаление ячейку\n",
    "* `Shift + 🠕🠗` - выделение нескольких ячеек\n",
    "* `Shift + M` - объединение ячеек\n",
    "* `Ctrl + Enter` - запустить код в выбранных ячейках\n",
    "* `Alt + Enter` - запустить ячейку и вставить ячейку ниже\n",
    "* `Shift + Enter` - запустить ячейку и перейти к ячейке ниже\n",
    "* `Tab` - автодополнение кода\n",
    "* `Shif + Tab` - всплывающая подсказка"
   ]
  },
  {
   "cell_type": "code",
   "execution_count": 1,
   "metadata": {},
   "outputs": [],
   "source": [
    "# result = 1 + 2"
   ]
  },
  {
   "cell_type": "code",
   "execution_count": 5,
   "metadata": {},
   "outputs": [],
   "source": []
  }
 ],
 "metadata": {
  "kernelspec": {
   "display_name": "Python 3 (ipykernel)",
   "language": "python",
   "name": "python3"
  },
  "language_info": {
   "codemirror_mode": {
    "name": "ipython",
    "version": 3
   },
   "file_extension": ".py",
   "mimetype": "text/x-python",
   "name": "python",
   "nbconvert_exporter": "python",
   "pygments_lexer": "ipython3",
   "version": "3.9.12"
  }
 },
 "nbformat": 4,
 "nbformat_minor": 4
}
