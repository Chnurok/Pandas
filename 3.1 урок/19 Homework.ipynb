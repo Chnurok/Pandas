{
 "cells": [
  {
   "cell_type": "code",
   "execution_count": 1,
   "metadata": {},
   "outputs": [],
   "source": [
    "import pandas as pd"
   ]
  },
  {
   "cell_type": "markdown",
   "metadata": {},
   "source": [
    "1. Считать все листы из книги Excel - prices.xlxs.\n",
    "2. Объединить прочитанные датафреймы в один датафрейм.\n",
    "3. Отсортировать по цене в порядке убывания цены.\n",
    "4. Сохранить итоговый датафрейм в файл all_prices.xlsx с названием листа Notebooks."
   ]
  },
  {
   "cell_type": "code",
   "execution_count": 4,
   "metadata": {},
   "outputs": [],
   "source": [
    "df_acer = pd.read_excel('prices.xlsx', sheet_name='Acer')\n",
    "df_asus = pd.read_excel('prices.xlsx', sheet_name='Asus')\n",
    "df_hp = pd.read_excel('prices.xlsx', sheet_name='HP')"
   ]
  },
  {
   "cell_type": "code",
   "execution_count": 5,
   "metadata": {},
   "outputs": [
    {
     "data": {
      "text/html": [
       "<div>\n",
       "<style scoped>\n",
       "    .dataframe tbody tr th:only-of-type {\n",
       "        vertical-align: middle;\n",
       "    }\n",
       "\n",
       "    .dataframe tbody tr th {\n",
       "        vertical-align: top;\n",
       "    }\n",
       "\n",
       "    .dataframe thead th {\n",
       "        text-align: right;\n",
       "    }\n",
       "</style>\n",
       "<table border=\"1\" class=\"dataframe\">\n",
       "  <thead>\n",
       "    <tr style=\"text-align: right;\">\n",
       "      <th></th>\n",
       "      <th>id</th>\n",
       "      <th>title</th>\n",
       "      <th>price</th>\n",
       "    </tr>\n",
       "  </thead>\n",
       "  <tbody>\n",
       "    <tr>\n",
       "      <th>0</th>\n",
       "      <td>1</td>\n",
       "      <td>Ноутбук Acer Aspire 5 A515-54G-502N (NX.HVGEU....</td>\n",
       "      <td>10</td>\n",
       "    </tr>\n",
       "    <tr>\n",
       "      <th>1</th>\n",
       "      <td>5</td>\n",
       "      <td>Ноутбук Acer Aspire 7 A715-41G-R7MZ (NH.Q8LEU....</td>\n",
       "      <td>35</td>\n",
       "    </tr>\n",
       "    <tr>\n",
       "      <th>2</th>\n",
       "      <td>2</td>\n",
       "      <td>Ноутбук Asus ROG Strix G15 G512LI-HN057 (90NR0...</td>\n",
       "      <td>20</td>\n",
       "    </tr>\n",
       "    <tr>\n",
       "      <th>3</th>\n",
       "      <td>8</td>\n",
       "      <td>Ноутбук Asus ROG Strix G15 G512LI-HN094 (90NR0...</td>\n",
       "      <td>16</td>\n",
       "    </tr>\n",
       "    <tr>\n",
       "      <th>4</th>\n",
       "      <td>3</td>\n",
       "      <td>Ноутбук HP Pavilion Gaming 15-bc504ur (7DT87EA...</td>\n",
       "      <td>7</td>\n",
       "    </tr>\n",
       "    <tr>\n",
       "      <th>5</th>\n",
       "      <td>4</td>\n",
       "      <td>Ноутбук HP Pavilion Notebook 15-cw1011ua (8RW1...</td>\n",
       "      <td>25</td>\n",
       "    </tr>\n",
       "    <tr>\n",
       "      <th>6</th>\n",
       "      <td>9</td>\n",
       "      <td>Ноутбук HP Pavilion Notebook 15-cw1002ua (7KE5...</td>\n",
       "      <td>15</td>\n",
       "    </tr>\n",
       "    <tr>\n",
       "      <th>7</th>\n",
       "      <td>10</td>\n",
       "      <td>Ноутбук HP Pavilion Notebook 15-cw1005ua (7ZF7...</td>\n",
       "      <td>30</td>\n",
       "    </tr>\n",
       "  </tbody>\n",
       "</table>\n",
       "</div>"
      ],
      "text/plain": [
       "   id                                              title  price\n",
       "0   1  Ноутбук Acer Aspire 5 A515-54G-502N (NX.HVGEU....     10\n",
       "1   5  Ноутбук Acer Aspire 7 A715-41G-R7MZ (NH.Q8LEU....     35\n",
       "2   2  Ноутбук Asus ROG Strix G15 G512LI-HN057 (90NR0...     20\n",
       "3   8  Ноутбук Asus ROG Strix G15 G512LI-HN094 (90NR0...     16\n",
       "4   3  Ноутбук HP Pavilion Gaming 15-bc504ur (7DT87EA...      7\n",
       "5   4  Ноутбук HP Pavilion Notebook 15-cw1011ua (8RW1...     25\n",
       "6   9  Ноутбук HP Pavilion Notebook 15-cw1002ua (7KE5...     15\n",
       "7  10  Ноутбук HP Pavilion Notebook 15-cw1005ua (7ZF7...     30"
      ]
     },
     "execution_count": 5,
     "metadata": {},
     "output_type": "execute_result"
    }
   ],
   "source": [
    "df = pd.concat([df_acer, df_asus, df_hp], ignore_index=True)\n",
    "df"
   ]
  },
  {
   "cell_type": "code",
   "execution_count": 8,
   "metadata": {},
   "outputs": [],
   "source": [
    "df.sort_values(by='price', ascending=False, inplace=True)"
   ]
  },
  {
   "cell_type": "code",
   "execution_count": 9,
   "metadata": {},
   "outputs": [
    {
     "data": {
      "text/html": [
       "<div>\n",
       "<style scoped>\n",
       "    .dataframe tbody tr th:only-of-type {\n",
       "        vertical-align: middle;\n",
       "    }\n",
       "\n",
       "    .dataframe tbody tr th {\n",
       "        vertical-align: top;\n",
       "    }\n",
       "\n",
       "    .dataframe thead th {\n",
       "        text-align: right;\n",
       "    }\n",
       "</style>\n",
       "<table border=\"1\" class=\"dataframe\">\n",
       "  <thead>\n",
       "    <tr style=\"text-align: right;\">\n",
       "      <th></th>\n",
       "      <th>id</th>\n",
       "      <th>title</th>\n",
       "      <th>price</th>\n",
       "    </tr>\n",
       "  </thead>\n",
       "  <tbody>\n",
       "    <tr>\n",
       "      <th>1</th>\n",
       "      <td>5</td>\n",
       "      <td>Ноутбук Acer Aspire 7 A715-41G-R7MZ (NH.Q8LEU....</td>\n",
       "      <td>35</td>\n",
       "    </tr>\n",
       "    <tr>\n",
       "      <th>7</th>\n",
       "      <td>10</td>\n",
       "      <td>Ноутбук HP Pavilion Notebook 15-cw1005ua (7ZF7...</td>\n",
       "      <td>30</td>\n",
       "    </tr>\n",
       "    <tr>\n",
       "      <th>5</th>\n",
       "      <td>4</td>\n",
       "      <td>Ноутбук HP Pavilion Notebook 15-cw1011ua (8RW1...</td>\n",
       "      <td>25</td>\n",
       "    </tr>\n",
       "    <tr>\n",
       "      <th>2</th>\n",
       "      <td>2</td>\n",
       "      <td>Ноутбук Asus ROG Strix G15 G512LI-HN057 (90NR0...</td>\n",
       "      <td>20</td>\n",
       "    </tr>\n",
       "    <tr>\n",
       "      <th>3</th>\n",
       "      <td>8</td>\n",
       "      <td>Ноутбук Asus ROG Strix G15 G512LI-HN094 (90NR0...</td>\n",
       "      <td>16</td>\n",
       "    </tr>\n",
       "    <tr>\n",
       "      <th>6</th>\n",
       "      <td>9</td>\n",
       "      <td>Ноутбук HP Pavilion Notebook 15-cw1002ua (7KE5...</td>\n",
       "      <td>15</td>\n",
       "    </tr>\n",
       "    <tr>\n",
       "      <th>0</th>\n",
       "      <td>1</td>\n",
       "      <td>Ноутбук Acer Aspire 5 A515-54G-502N (NX.HVGEU....</td>\n",
       "      <td>10</td>\n",
       "    </tr>\n",
       "    <tr>\n",
       "      <th>4</th>\n",
       "      <td>3</td>\n",
       "      <td>Ноутбук HP Pavilion Gaming 15-bc504ur (7DT87EA...</td>\n",
       "      <td>7</td>\n",
       "    </tr>\n",
       "  </tbody>\n",
       "</table>\n",
       "</div>"
      ],
      "text/plain": [
       "   id                                              title  price\n",
       "1   5  Ноутбук Acer Aspire 7 A715-41G-R7MZ (NH.Q8LEU....     35\n",
       "7  10  Ноутбук HP Pavilion Notebook 15-cw1005ua (7ZF7...     30\n",
       "5   4  Ноутбук HP Pavilion Notebook 15-cw1011ua (8RW1...     25\n",
       "2   2  Ноутбук Asus ROG Strix G15 G512LI-HN057 (90NR0...     20\n",
       "3   8  Ноутбук Asus ROG Strix G15 G512LI-HN094 (90NR0...     16\n",
       "6   9  Ноутбук HP Pavilion Notebook 15-cw1002ua (7KE5...     15\n",
       "0   1  Ноутбук Acer Aspire 5 A515-54G-502N (NX.HVGEU....     10\n",
       "4   3  Ноутбук HP Pavilion Gaming 15-bc504ur (7DT87EA...      7"
      ]
     },
     "execution_count": 9,
     "metadata": {},
     "output_type": "execute_result"
    }
   ],
   "source": [
    "df"
   ]
  },
  {
   "cell_type": "code",
   "execution_count": 10,
   "metadata": {},
   "outputs": [],
   "source": [
    "df.to_excel('all_prices.xlsx', sheet_name='Notebooks', index=False)"
   ]
  },
  {
   "cell_type": "code",
   "execution_count": null,
   "metadata": {},
   "outputs": [],
   "source": []
  },
  {
   "cell_type": "code",
   "execution_count": 13,
   "metadata": {},
   "outputs": [],
   "source": [
    "f = pd.ExcelFile('prices.xlsx')"
   ]
  },
  {
   "cell_type": "code",
   "execution_count": 14,
   "metadata": {},
   "outputs": [
    {
     "data": {
      "text/plain": [
       "<pandas.io.excel._base.ExcelFile at 0x186dbf29d60>"
      ]
     },
     "execution_count": 14,
     "metadata": {},
     "output_type": "execute_result"
    }
   ],
   "source": [
    "f"
   ]
  },
  {
   "cell_type": "code",
   "execution_count": 15,
   "metadata": {},
   "outputs": [],
   "source": [
    "res = pd.DataFrame()"
   ]
  },
  {
   "cell_type": "code",
   "execution_count": 17,
   "metadata": {},
   "outputs": [],
   "source": [
    "for name in f.sheet_names:\n",
    "#     print(name)\n",
    "    tmp = pd.read_excel('prices.xlsx', sheet_name=name)\n",
    "    res = pd.concat([res, tmp])"
   ]
  },
  {
   "cell_type": "code",
   "execution_count": 18,
   "metadata": {},
   "outputs": [
    {
     "data": {
      "text/html": [
       "<div>\n",
       "<style scoped>\n",
       "    .dataframe tbody tr th:only-of-type {\n",
       "        vertical-align: middle;\n",
       "    }\n",
       "\n",
       "    .dataframe tbody tr th {\n",
       "        vertical-align: top;\n",
       "    }\n",
       "\n",
       "    .dataframe thead th {\n",
       "        text-align: right;\n",
       "    }\n",
       "</style>\n",
       "<table border=\"1\" class=\"dataframe\">\n",
       "  <thead>\n",
       "    <tr style=\"text-align: right;\">\n",
       "      <th></th>\n",
       "      <th>id</th>\n",
       "      <th>title</th>\n",
       "      <th>price</th>\n",
       "    </tr>\n",
       "  </thead>\n",
       "  <tbody>\n",
       "    <tr>\n",
       "      <th>0</th>\n",
       "      <td>1</td>\n",
       "      <td>Ноутбук Acer Aspire 5 A515-54G-502N (NX.HVGEU....</td>\n",
       "      <td>10</td>\n",
       "    </tr>\n",
       "    <tr>\n",
       "      <th>1</th>\n",
       "      <td>5</td>\n",
       "      <td>Ноутбук Acer Aspire 7 A715-41G-R7MZ (NH.Q8LEU....</td>\n",
       "      <td>35</td>\n",
       "    </tr>\n",
       "    <tr>\n",
       "      <th>0</th>\n",
       "      <td>2</td>\n",
       "      <td>Ноутбук Asus ROG Strix G15 G512LI-HN057 (90NR0...</td>\n",
       "      <td>20</td>\n",
       "    </tr>\n",
       "    <tr>\n",
       "      <th>1</th>\n",
       "      <td>8</td>\n",
       "      <td>Ноутбук Asus ROG Strix G15 G512LI-HN094 (90NR0...</td>\n",
       "      <td>16</td>\n",
       "    </tr>\n",
       "    <tr>\n",
       "      <th>0</th>\n",
       "      <td>3</td>\n",
       "      <td>Ноутбук HP Pavilion Gaming 15-bc504ur (7DT87EA...</td>\n",
       "      <td>7</td>\n",
       "    </tr>\n",
       "    <tr>\n",
       "      <th>1</th>\n",
       "      <td>4</td>\n",
       "      <td>Ноутбук HP Pavilion Notebook 15-cw1011ua (8RW1...</td>\n",
       "      <td>25</td>\n",
       "    </tr>\n",
       "    <tr>\n",
       "      <th>2</th>\n",
       "      <td>9</td>\n",
       "      <td>Ноутбук HP Pavilion Notebook 15-cw1002ua (7KE5...</td>\n",
       "      <td>15</td>\n",
       "    </tr>\n",
       "    <tr>\n",
       "      <th>3</th>\n",
       "      <td>10</td>\n",
       "      <td>Ноутбук HP Pavilion Notebook 15-cw1005ua (7ZF7...</td>\n",
       "      <td>30</td>\n",
       "    </tr>\n",
       "  </tbody>\n",
       "</table>\n",
       "</div>"
      ],
      "text/plain": [
       "   id                                              title  price\n",
       "0   1  Ноутбук Acer Aspire 5 A515-54G-502N (NX.HVGEU....     10\n",
       "1   5  Ноутбук Acer Aspire 7 A715-41G-R7MZ (NH.Q8LEU....     35\n",
       "0   2  Ноутбук Asus ROG Strix G15 G512LI-HN057 (90NR0...     20\n",
       "1   8  Ноутбук Asus ROG Strix G15 G512LI-HN094 (90NR0...     16\n",
       "0   3  Ноутбук HP Pavilion Gaming 15-bc504ur (7DT87EA...      7\n",
       "1   4  Ноутбук HP Pavilion Notebook 15-cw1011ua (8RW1...     25\n",
       "2   9  Ноутбук HP Pavilion Notebook 15-cw1002ua (7KE5...     15\n",
       "3  10  Ноутбук HP Pavilion Notebook 15-cw1005ua (7ZF7...     30"
      ]
     },
     "execution_count": 18,
     "metadata": {},
     "output_type": "execute_result"
    }
   ],
   "source": [
    "res"
   ]
  },
  {
   "cell_type": "code",
   "execution_count": null,
   "metadata": {},
   "outputs": [],
   "source": []
  }
 ],
 "metadata": {
  "kernelspec": {
   "display_name": "Python 3",
   "language": "python",
   "name": "python3"
  },
  "language_info": {
   "codemirror_mode": {
    "name": "ipython",
    "version": 3
   },
   "file_extension": ".py",
   "mimetype": "text/x-python",
   "name": "python",
   "nbconvert_exporter": "python",
   "pygments_lexer": "ipython3",
   "version": "3.8.3"
  }
 },
 "nbformat": 4,
 "nbformat_minor": 4
}
