{
 "cells": [
  {
   "cell_type": "markdown",
   "metadata": {},
   "source": [
    "## Homework\n",
    "1. Прочесть в датафрейм `df` файл `price.csv`.\n",
    "2. Извлечь в колонку `brand` название бренда из колонки `title`.\n",
    "3. Записать уникальные бренды в словарь формата `'brand': '№ п/п'`, где порядковый номер начинается с единицы: `{'Acer': 1, 'Asus': 2, 'HP': 3, 'Dell': 4, 'Apple': 5, 'Lenovo': 6}` (функция enumerate).\n",
    "4. Используя полученный словарь, создать колонку `brand_id`, в которую записать соответствующее значение словаря (на основе колонки `brand` и ключа словаря).\n",
    "5. Создать новый датафрейм `df_brands` из столбцов `brand_id` и `brand`, удалив при этом дубли (метод drop_duplicates).\n",
    "6. Удалить из датафрейма `df` столбец `brand`.\n",
    "7. Сохранить в файл `products.csv` датафрейм `df` (без индексов, разделитель - ;).\n",
    "8. Сохранить в файл `brands.csv` датафрейм `df_brands` (без индексов, разделитель - ;)."
   ]
  },
  {
   "cell_type": "code",
   "execution_count": 1,
   "metadata": {},
   "outputs": [],
   "source": [
    "import pandas as pd"
   ]
  },
  {
   "cell_type": "code",
   "execution_count": 2,
   "metadata": {},
   "outputs": [
    {
     "data": {
      "text/html": [
       "<div>\n",
       "<style scoped>\n",
       "    .dataframe tbody tr th:only-of-type {\n",
       "        vertical-align: middle;\n",
       "    }\n",
       "\n",
       "    .dataframe tbody tr th {\n",
       "        vertical-align: top;\n",
       "    }\n",
       "\n",
       "    .dataframe thead th {\n",
       "        text-align: right;\n",
       "    }\n",
       "</style>\n",
       "<table border=\"1\" class=\"dataframe\">\n",
       "  <thead>\n",
       "    <tr style=\"text-align: right;\">\n",
       "      <th></th>\n",
       "      <th>id</th>\n",
       "      <th>title</th>\n",
       "    </tr>\n",
       "  </thead>\n",
       "  <tbody>\n",
       "    <tr>\n",
       "      <th>0</th>\n",
       "      <td>1</td>\n",
       "      <td>Ноутбук Acer Aspire 5 A515-54G-502N (NX.HVGEU....</td>\n",
       "    </tr>\n",
       "    <tr>\n",
       "      <th>1</th>\n",
       "      <td>2</td>\n",
       "      <td>Ноутбук Asus ROG Strix G15 G512LI-HN057 (90NR0...</td>\n",
       "    </tr>\n",
       "    <tr>\n",
       "      <th>2</th>\n",
       "      <td>3</td>\n",
       "      <td>Ноутбук HP Pavilion Gaming 15-bc504ur (7DT87EA...</td>\n",
       "    </tr>\n",
       "    <tr>\n",
       "      <th>3</th>\n",
       "      <td>4</td>\n",
       "      <td>Ноутбук HP Pavilion Notebook 15-cw1011ua (8RW1...</td>\n",
       "    </tr>\n",
       "    <tr>\n",
       "      <th>4</th>\n",
       "      <td>5</td>\n",
       "      <td>Ноутбук Acer Aspire 7 A715-41G-R7MZ (NH.Q8LEU....</td>\n",
       "    </tr>\n",
       "    <tr>\n",
       "      <th>5</th>\n",
       "      <td>6</td>\n",
       "      <td>Ноутбук Dell Inspiron 3582 (I3582C54H5NIL-BK) ...</td>\n",
       "    </tr>\n",
       "    <tr>\n",
       "      <th>6</th>\n",
       "      <td>7</td>\n",
       "      <td>Ноутбук Apple MacBook Air 13\" 256GB 2020 Space...</td>\n",
       "    </tr>\n",
       "    <tr>\n",
       "      <th>7</th>\n",
       "      <td>8</td>\n",
       "      <td>Ноутбук Asus ROG Strix G15 G512LI-HN094 (90NR0...</td>\n",
       "    </tr>\n",
       "    <tr>\n",
       "      <th>8</th>\n",
       "      <td>9</td>\n",
       "      <td>Ноутбук HP Pavilion Notebook 15-cw1002ua (7KE5...</td>\n",
       "    </tr>\n",
       "    <tr>\n",
       "      <th>9</th>\n",
       "      <td>10</td>\n",
       "      <td>Ноутбук HP Pavilion Notebook 15-cw1005ua (7ZF7...</td>\n",
       "    </tr>\n",
       "    <tr>\n",
       "      <th>10</th>\n",
       "      <td>11</td>\n",
       "      <td>Ноутбук Lenovo IdeaPad L340-15IRH Gaming (81LK...</td>\n",
       "    </tr>\n",
       "  </tbody>\n",
       "</table>\n",
       "</div>"
      ],
      "text/plain": [
       "    id                                              title\n",
       "0    1  Ноутбук Acer Aspire 5 A515-54G-502N (NX.HVGEU....\n",
       "1    2  Ноутбук Asus ROG Strix G15 G512LI-HN057 (90NR0...\n",
       "2    3  Ноутбук HP Pavilion Gaming 15-bc504ur (7DT87EA...\n",
       "3    4  Ноутбук HP Pavilion Notebook 15-cw1011ua (8RW1...\n",
       "4    5  Ноутбук Acer Aspire 7 A715-41G-R7MZ (NH.Q8LEU....\n",
       "5    6  Ноутбук Dell Inspiron 3582 (I3582C54H5NIL-BK) ...\n",
       "6    7  Ноутбук Apple MacBook Air 13\" 256GB 2020 Space...\n",
       "7    8  Ноутбук Asus ROG Strix G15 G512LI-HN094 (90NR0...\n",
       "8    9  Ноутбук HP Pavilion Notebook 15-cw1002ua (7KE5...\n",
       "9   10  Ноутбук HP Pavilion Notebook 15-cw1005ua (7ZF7...\n",
       "10  11  Ноутбук Lenovo IdeaPad L340-15IRH Gaming (81LK..."
      ]
     },
     "execution_count": 2,
     "metadata": {},
     "output_type": "execute_result"
    }
   ],
   "source": [
    "df = pd.read_csv('price.csv', sep=';')\n",
    "df"
   ]
  },
  {
   "cell_type": "code",
   "execution_count": 6,
   "metadata": {},
   "outputs": [],
   "source": [
    "df['brand'] = df.title.str.extract('\\w+ (?P<brand>\\w+)')"
   ]
  },
  {
   "cell_type": "code",
   "execution_count": 7,
   "metadata": {},
   "outputs": [
    {
     "data": {
      "text/html": [
       "<div>\n",
       "<style scoped>\n",
       "    .dataframe tbody tr th:only-of-type {\n",
       "        vertical-align: middle;\n",
       "    }\n",
       "\n",
       "    .dataframe tbody tr th {\n",
       "        vertical-align: top;\n",
       "    }\n",
       "\n",
       "    .dataframe thead th {\n",
       "        text-align: right;\n",
       "    }\n",
       "</style>\n",
       "<table border=\"1\" class=\"dataframe\">\n",
       "  <thead>\n",
       "    <tr style=\"text-align: right;\">\n",
       "      <th></th>\n",
       "      <th>id</th>\n",
       "      <th>title</th>\n",
       "      <th>brand</th>\n",
       "    </tr>\n",
       "  </thead>\n",
       "  <tbody>\n",
       "    <tr>\n",
       "      <th>0</th>\n",
       "      <td>1</td>\n",
       "      <td>Ноутбук Acer Aspire 5 A515-54G-502N (NX.HVGEU....</td>\n",
       "      <td>Acer</td>\n",
       "    </tr>\n",
       "    <tr>\n",
       "      <th>1</th>\n",
       "      <td>2</td>\n",
       "      <td>Ноутбук Asus ROG Strix G15 G512LI-HN057 (90NR0...</td>\n",
       "      <td>Asus</td>\n",
       "    </tr>\n",
       "    <tr>\n",
       "      <th>2</th>\n",
       "      <td>3</td>\n",
       "      <td>Ноутбук HP Pavilion Gaming 15-bc504ur (7DT87EA...</td>\n",
       "      <td>HP</td>\n",
       "    </tr>\n",
       "    <tr>\n",
       "      <th>3</th>\n",
       "      <td>4</td>\n",
       "      <td>Ноутбук HP Pavilion Notebook 15-cw1011ua (8RW1...</td>\n",
       "      <td>HP</td>\n",
       "    </tr>\n",
       "    <tr>\n",
       "      <th>4</th>\n",
       "      <td>5</td>\n",
       "      <td>Ноутбук Acer Aspire 7 A715-41G-R7MZ (NH.Q8LEU....</td>\n",
       "      <td>Acer</td>\n",
       "    </tr>\n",
       "    <tr>\n",
       "      <th>5</th>\n",
       "      <td>6</td>\n",
       "      <td>Ноутбук Dell Inspiron 3582 (I3582C54H5NIL-BK) ...</td>\n",
       "      <td>Dell</td>\n",
       "    </tr>\n",
       "    <tr>\n",
       "      <th>6</th>\n",
       "      <td>7</td>\n",
       "      <td>Ноутбук Apple MacBook Air 13\" 256GB 2020 Space...</td>\n",
       "      <td>Apple</td>\n",
       "    </tr>\n",
       "    <tr>\n",
       "      <th>7</th>\n",
       "      <td>8</td>\n",
       "      <td>Ноутбук Asus ROG Strix G15 G512LI-HN094 (90NR0...</td>\n",
       "      <td>Asus</td>\n",
       "    </tr>\n",
       "    <tr>\n",
       "      <th>8</th>\n",
       "      <td>9</td>\n",
       "      <td>Ноутбук HP Pavilion Notebook 15-cw1002ua (7KE5...</td>\n",
       "      <td>HP</td>\n",
       "    </tr>\n",
       "    <tr>\n",
       "      <th>9</th>\n",
       "      <td>10</td>\n",
       "      <td>Ноутбук HP Pavilion Notebook 15-cw1005ua (7ZF7...</td>\n",
       "      <td>HP</td>\n",
       "    </tr>\n",
       "    <tr>\n",
       "      <th>10</th>\n",
       "      <td>11</td>\n",
       "      <td>Ноутбук Lenovo IdeaPad L340-15IRH Gaming (81LK...</td>\n",
       "      <td>Lenovo</td>\n",
       "    </tr>\n",
       "  </tbody>\n",
       "</table>\n",
       "</div>"
      ],
      "text/plain": [
       "    id                                              title   brand\n",
       "0    1  Ноутбук Acer Aspire 5 A515-54G-502N (NX.HVGEU....    Acer\n",
       "1    2  Ноутбук Asus ROG Strix G15 G512LI-HN057 (90NR0...    Asus\n",
       "2    3  Ноутбук HP Pavilion Gaming 15-bc504ur (7DT87EA...      HP\n",
       "3    4  Ноутбук HP Pavilion Notebook 15-cw1011ua (8RW1...      HP\n",
       "4    5  Ноутбук Acer Aspire 7 A715-41G-R7MZ (NH.Q8LEU....    Acer\n",
       "5    6  Ноутбук Dell Inspiron 3582 (I3582C54H5NIL-BK) ...    Dell\n",
       "6    7  Ноутбук Apple MacBook Air 13\" 256GB 2020 Space...   Apple\n",
       "7    8  Ноутбук Asus ROG Strix G15 G512LI-HN094 (90NR0...    Asus\n",
       "8    9  Ноутбук HP Pavilion Notebook 15-cw1002ua (7KE5...      HP\n",
       "9   10  Ноутбук HP Pavilion Notebook 15-cw1005ua (7ZF7...      HP\n",
       "10  11  Ноутбук Lenovo IdeaPad L340-15IRH Gaming (81LK...  Lenovo"
      ]
     },
     "execution_count": 7,
     "metadata": {},
     "output_type": "execute_result"
    }
   ],
   "source": [
    "df"
   ]
  },
  {
   "cell_type": "code",
   "execution_count": 14,
   "metadata": {},
   "outputs": [
    {
     "data": {
      "text/plain": [
       "6"
      ]
     },
     "execution_count": 14,
     "metadata": {},
     "output_type": "execute_result"
    }
   ],
   "source": [
    "df.brand.nunique()"
   ]
  },
  {
   "cell_type": "code",
   "execution_count": 15,
   "metadata": {},
   "outputs": [
    {
     "data": {
      "text/plain": [
       "array(['Acer', 'Asus', 'HP', 'Dell', 'Apple', 'Lenovo'], dtype=object)"
      ]
     },
     "execution_count": 15,
     "metadata": {},
     "output_type": "execute_result"
    }
   ],
   "source": [
    "df.brand.unique()"
   ]
  },
  {
   "cell_type": "code",
   "execution_count": 18,
   "metadata": {},
   "outputs": [],
   "source": [
    "brands = {}\n",
    "for el in enumerate(df.brand.unique(), 1):\n",
    "    brands[el[1]] = el[0]"
   ]
  },
  {
   "cell_type": "code",
   "execution_count": 19,
   "metadata": {},
   "outputs": [
    {
     "data": {
      "text/plain": [
       "{'Acer': 1, 'Asus': 2, 'HP': 3, 'Dell': 4, 'Apple': 5, 'Lenovo': 6}"
      ]
     },
     "execution_count": 19,
     "metadata": {},
     "output_type": "execute_result"
    }
   ],
   "source": [
    "brands"
   ]
  },
  {
   "cell_type": "code",
   "execution_count": 20,
   "metadata": {},
   "outputs": [],
   "source": [
    "df['brand_id'] = df.brand.apply(lambda x: brands[x])"
   ]
  },
  {
   "cell_type": "code",
   "execution_count": 21,
   "metadata": {},
   "outputs": [
    {
     "data": {
      "text/html": [
       "<div>\n",
       "<style scoped>\n",
       "    .dataframe tbody tr th:only-of-type {\n",
       "        vertical-align: middle;\n",
       "    }\n",
       "\n",
       "    .dataframe tbody tr th {\n",
       "        vertical-align: top;\n",
       "    }\n",
       "\n",
       "    .dataframe thead th {\n",
       "        text-align: right;\n",
       "    }\n",
       "</style>\n",
       "<table border=\"1\" class=\"dataframe\">\n",
       "  <thead>\n",
       "    <tr style=\"text-align: right;\">\n",
       "      <th></th>\n",
       "      <th>id</th>\n",
       "      <th>title</th>\n",
       "      <th>brand</th>\n",
       "      <th>brand_id</th>\n",
       "    </tr>\n",
       "  </thead>\n",
       "  <tbody>\n",
       "    <tr>\n",
       "      <th>0</th>\n",
       "      <td>1</td>\n",
       "      <td>Ноутбук Acer Aspire 5 A515-54G-502N (NX.HVGEU....</td>\n",
       "      <td>Acer</td>\n",
       "      <td>1</td>\n",
       "    </tr>\n",
       "    <tr>\n",
       "      <th>1</th>\n",
       "      <td>2</td>\n",
       "      <td>Ноутбук Asus ROG Strix G15 G512LI-HN057 (90NR0...</td>\n",
       "      <td>Asus</td>\n",
       "      <td>2</td>\n",
       "    </tr>\n",
       "    <tr>\n",
       "      <th>2</th>\n",
       "      <td>3</td>\n",
       "      <td>Ноутбук HP Pavilion Gaming 15-bc504ur (7DT87EA...</td>\n",
       "      <td>HP</td>\n",
       "      <td>3</td>\n",
       "    </tr>\n",
       "    <tr>\n",
       "      <th>3</th>\n",
       "      <td>4</td>\n",
       "      <td>Ноутбук HP Pavilion Notebook 15-cw1011ua (8RW1...</td>\n",
       "      <td>HP</td>\n",
       "      <td>3</td>\n",
       "    </tr>\n",
       "    <tr>\n",
       "      <th>4</th>\n",
       "      <td>5</td>\n",
       "      <td>Ноутбук Acer Aspire 7 A715-41G-R7MZ (NH.Q8LEU....</td>\n",
       "      <td>Acer</td>\n",
       "      <td>1</td>\n",
       "    </tr>\n",
       "    <tr>\n",
       "      <th>5</th>\n",
       "      <td>6</td>\n",
       "      <td>Ноутбук Dell Inspiron 3582 (I3582C54H5NIL-BK) ...</td>\n",
       "      <td>Dell</td>\n",
       "      <td>4</td>\n",
       "    </tr>\n",
       "    <tr>\n",
       "      <th>6</th>\n",
       "      <td>7</td>\n",
       "      <td>Ноутбук Apple MacBook Air 13\" 256GB 2020 Space...</td>\n",
       "      <td>Apple</td>\n",
       "      <td>5</td>\n",
       "    </tr>\n",
       "    <tr>\n",
       "      <th>7</th>\n",
       "      <td>8</td>\n",
       "      <td>Ноутбук Asus ROG Strix G15 G512LI-HN094 (90NR0...</td>\n",
       "      <td>Asus</td>\n",
       "      <td>2</td>\n",
       "    </tr>\n",
       "    <tr>\n",
       "      <th>8</th>\n",
       "      <td>9</td>\n",
       "      <td>Ноутбук HP Pavilion Notebook 15-cw1002ua (7KE5...</td>\n",
       "      <td>HP</td>\n",
       "      <td>3</td>\n",
       "    </tr>\n",
       "    <tr>\n",
       "      <th>9</th>\n",
       "      <td>10</td>\n",
       "      <td>Ноутбук HP Pavilion Notebook 15-cw1005ua (7ZF7...</td>\n",
       "      <td>HP</td>\n",
       "      <td>3</td>\n",
       "    </tr>\n",
       "    <tr>\n",
       "      <th>10</th>\n",
       "      <td>11</td>\n",
       "      <td>Ноутбук Lenovo IdeaPad L340-15IRH Gaming (81LK...</td>\n",
       "      <td>Lenovo</td>\n",
       "      <td>6</td>\n",
       "    </tr>\n",
       "  </tbody>\n",
       "</table>\n",
       "</div>"
      ],
      "text/plain": [
       "    id                                              title   brand  brand_id\n",
       "0    1  Ноутбук Acer Aspire 5 A515-54G-502N (NX.HVGEU....    Acer         1\n",
       "1    2  Ноутбук Asus ROG Strix G15 G512LI-HN057 (90NR0...    Asus         2\n",
       "2    3  Ноутбук HP Pavilion Gaming 15-bc504ur (7DT87EA...      HP         3\n",
       "3    4  Ноутбук HP Pavilion Notebook 15-cw1011ua (8RW1...      HP         3\n",
       "4    5  Ноутбук Acer Aspire 7 A715-41G-R7MZ (NH.Q8LEU....    Acer         1\n",
       "5    6  Ноутбук Dell Inspiron 3582 (I3582C54H5NIL-BK) ...    Dell         4\n",
       "6    7  Ноутбук Apple MacBook Air 13\" 256GB 2020 Space...   Apple         5\n",
       "7    8  Ноутбук Asus ROG Strix G15 G512LI-HN094 (90NR0...    Asus         2\n",
       "8    9  Ноутбук HP Pavilion Notebook 15-cw1002ua (7KE5...      HP         3\n",
       "9   10  Ноутбук HP Pavilion Notebook 15-cw1005ua (7ZF7...      HP         3\n",
       "10  11  Ноутбук Lenovo IdeaPad L340-15IRH Gaming (81LK...  Lenovo         6"
      ]
     },
     "execution_count": 21,
     "metadata": {},
     "output_type": "execute_result"
    }
   ],
   "source": [
    "df"
   ]
  },
  {
   "cell_type": "code",
   "execution_count": 24,
   "metadata": {},
   "outputs": [],
   "source": [
    "df_brands = df.loc[:, ['brand_id', 'brand']].drop_duplicates()"
   ]
  },
  {
   "cell_type": "code",
   "execution_count": 25,
   "metadata": {},
   "outputs": [
    {
     "data": {
      "text/html": [
       "<div>\n",
       "<style scoped>\n",
       "    .dataframe tbody tr th:only-of-type {\n",
       "        vertical-align: middle;\n",
       "    }\n",
       "\n",
       "    .dataframe tbody tr th {\n",
       "        vertical-align: top;\n",
       "    }\n",
       "\n",
       "    .dataframe thead th {\n",
       "        text-align: right;\n",
       "    }\n",
       "</style>\n",
       "<table border=\"1\" class=\"dataframe\">\n",
       "  <thead>\n",
       "    <tr style=\"text-align: right;\">\n",
       "      <th></th>\n",
       "      <th>brand_id</th>\n",
       "      <th>brand</th>\n",
       "    </tr>\n",
       "  </thead>\n",
       "  <tbody>\n",
       "    <tr>\n",
       "      <th>0</th>\n",
       "      <td>1</td>\n",
       "      <td>Acer</td>\n",
       "    </tr>\n",
       "    <tr>\n",
       "      <th>1</th>\n",
       "      <td>2</td>\n",
       "      <td>Asus</td>\n",
       "    </tr>\n",
       "    <tr>\n",
       "      <th>2</th>\n",
       "      <td>3</td>\n",
       "      <td>HP</td>\n",
       "    </tr>\n",
       "    <tr>\n",
       "      <th>5</th>\n",
       "      <td>4</td>\n",
       "      <td>Dell</td>\n",
       "    </tr>\n",
       "    <tr>\n",
       "      <th>6</th>\n",
       "      <td>5</td>\n",
       "      <td>Apple</td>\n",
       "    </tr>\n",
       "    <tr>\n",
       "      <th>10</th>\n",
       "      <td>6</td>\n",
       "      <td>Lenovo</td>\n",
       "    </tr>\n",
       "  </tbody>\n",
       "</table>\n",
       "</div>"
      ],
      "text/plain": [
       "    brand_id   brand\n",
       "0          1    Acer\n",
       "1          2    Asus\n",
       "2          3      HP\n",
       "5          4    Dell\n",
       "6          5   Apple\n",
       "10         6  Lenovo"
      ]
     },
     "execution_count": 25,
     "metadata": {},
     "output_type": "execute_result"
    }
   ],
   "source": [
    "df_brands"
   ]
  },
  {
   "cell_type": "code",
   "execution_count": 27,
   "metadata": {},
   "outputs": [],
   "source": [
    "df.drop(columns=['brand'], inplace=True)"
   ]
  },
  {
   "cell_type": "code",
   "execution_count": 28,
   "metadata": {},
   "outputs": [
    {
     "data": {
      "text/html": [
       "<div>\n",
       "<style scoped>\n",
       "    .dataframe tbody tr th:only-of-type {\n",
       "        vertical-align: middle;\n",
       "    }\n",
       "\n",
       "    .dataframe tbody tr th {\n",
       "        vertical-align: top;\n",
       "    }\n",
       "\n",
       "    .dataframe thead th {\n",
       "        text-align: right;\n",
       "    }\n",
       "</style>\n",
       "<table border=\"1\" class=\"dataframe\">\n",
       "  <thead>\n",
       "    <tr style=\"text-align: right;\">\n",
       "      <th></th>\n",
       "      <th>id</th>\n",
       "      <th>title</th>\n",
       "      <th>brand_id</th>\n",
       "    </tr>\n",
       "  </thead>\n",
       "  <tbody>\n",
       "    <tr>\n",
       "      <th>0</th>\n",
       "      <td>1</td>\n",
       "      <td>Ноутбук Acer Aspire 5 A515-54G-502N (NX.HVGEU....</td>\n",
       "      <td>1</td>\n",
       "    </tr>\n",
       "    <tr>\n",
       "      <th>1</th>\n",
       "      <td>2</td>\n",
       "      <td>Ноутбук Asus ROG Strix G15 G512LI-HN057 (90NR0...</td>\n",
       "      <td>2</td>\n",
       "    </tr>\n",
       "    <tr>\n",
       "      <th>2</th>\n",
       "      <td>3</td>\n",
       "      <td>Ноутбук HP Pavilion Gaming 15-bc504ur (7DT87EA...</td>\n",
       "      <td>3</td>\n",
       "    </tr>\n",
       "    <tr>\n",
       "      <th>3</th>\n",
       "      <td>4</td>\n",
       "      <td>Ноутбук HP Pavilion Notebook 15-cw1011ua (8RW1...</td>\n",
       "      <td>3</td>\n",
       "    </tr>\n",
       "    <tr>\n",
       "      <th>4</th>\n",
       "      <td>5</td>\n",
       "      <td>Ноутбук Acer Aspire 7 A715-41G-R7MZ (NH.Q8LEU....</td>\n",
       "      <td>1</td>\n",
       "    </tr>\n",
       "    <tr>\n",
       "      <th>5</th>\n",
       "      <td>6</td>\n",
       "      <td>Ноутбук Dell Inspiron 3582 (I3582C54H5NIL-BK) ...</td>\n",
       "      <td>4</td>\n",
       "    </tr>\n",
       "    <tr>\n",
       "      <th>6</th>\n",
       "      <td>7</td>\n",
       "      <td>Ноутбук Apple MacBook Air 13\" 256GB 2020 Space...</td>\n",
       "      <td>5</td>\n",
       "    </tr>\n",
       "    <tr>\n",
       "      <th>7</th>\n",
       "      <td>8</td>\n",
       "      <td>Ноутбук Asus ROG Strix G15 G512LI-HN094 (90NR0...</td>\n",
       "      <td>2</td>\n",
       "    </tr>\n",
       "    <tr>\n",
       "      <th>8</th>\n",
       "      <td>9</td>\n",
       "      <td>Ноутбук HP Pavilion Notebook 15-cw1002ua (7KE5...</td>\n",
       "      <td>3</td>\n",
       "    </tr>\n",
       "    <tr>\n",
       "      <th>9</th>\n",
       "      <td>10</td>\n",
       "      <td>Ноутбук HP Pavilion Notebook 15-cw1005ua (7ZF7...</td>\n",
       "      <td>3</td>\n",
       "    </tr>\n",
       "    <tr>\n",
       "      <th>10</th>\n",
       "      <td>11</td>\n",
       "      <td>Ноутбук Lenovo IdeaPad L340-15IRH Gaming (81LK...</td>\n",
       "      <td>6</td>\n",
       "    </tr>\n",
       "  </tbody>\n",
       "</table>\n",
       "</div>"
      ],
      "text/plain": [
       "    id                                              title  brand_id\n",
       "0    1  Ноутбук Acer Aspire 5 A515-54G-502N (NX.HVGEU....         1\n",
       "1    2  Ноутбук Asus ROG Strix G15 G512LI-HN057 (90NR0...         2\n",
       "2    3  Ноутбук HP Pavilion Gaming 15-bc504ur (7DT87EA...         3\n",
       "3    4  Ноутбук HP Pavilion Notebook 15-cw1011ua (8RW1...         3\n",
       "4    5  Ноутбук Acer Aspire 7 A715-41G-R7MZ (NH.Q8LEU....         1\n",
       "5    6  Ноутбук Dell Inspiron 3582 (I3582C54H5NIL-BK) ...         4\n",
       "6    7  Ноутбук Apple MacBook Air 13\" 256GB 2020 Space...         5\n",
       "7    8  Ноутбук Asus ROG Strix G15 G512LI-HN094 (90NR0...         2\n",
       "8    9  Ноутбук HP Pavilion Notebook 15-cw1002ua (7KE5...         3\n",
       "9   10  Ноутбук HP Pavilion Notebook 15-cw1005ua (7ZF7...         3\n",
       "10  11  Ноутбук Lenovo IdeaPad L340-15IRH Gaming (81LK...         6"
      ]
     },
     "execution_count": 28,
     "metadata": {},
     "output_type": "execute_result"
    }
   ],
   "source": [
    "df"
   ]
  },
  {
   "cell_type": "code",
   "execution_count": 29,
   "metadata": {},
   "outputs": [],
   "source": [
    "df.to_csv('products.csv', index=False, sep=';')"
   ]
  },
  {
   "cell_type": "code",
   "execution_count": 30,
   "metadata": {},
   "outputs": [],
   "source": [
    "df_brands.to_csv('brands.csv', index=False, sep=';')"
   ]
  },
  {
   "cell_type": "code",
   "execution_count": null,
   "metadata": {},
   "outputs": [],
   "source": []
  }
 ],
 "metadata": {
  "kernelspec": {
   "display_name": "Python 3",
   "language": "python",
   "name": "python3"
  },
  "language_info": {
   "codemirror_mode": {
    "name": "ipython",
    "version": 3
   },
   "file_extension": ".py",
   "mimetype": "text/x-python",
   "name": "python",
   "nbconvert_exporter": "python",
   "pygments_lexer": "ipython3",
   "version": "3.8.3"
  }
 },
 "nbformat": 4,
 "nbformat_minor": 4
}
